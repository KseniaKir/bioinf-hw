{
 "cells": [
  {
   "cell_type": "code",
   "execution_count": 3,
   "metadata": {},
   "outputs": [],
   "source": [
    "import scipy\n",
    "from scipy.stats  import stats\n",
    "import pandas as pd\n",
    "import numpy as np"
   ]
  },
  {
   "cell_type": "code",
   "execution_count": 7,
   "metadata": {},
   "outputs": [],
   "source": [
    "pd.options.mode.chained_assignment = None "
   ]
  },
  {
   "cell_type": "code",
   "execution_count": 8,
   "metadata": {},
   "outputs": [],
   "source": [
    "#4\n",
    "tsv =  'colon_cancer_tumor_vs_normal_paired_FPKM.tsv'\n",
    "genes = pd.read_csv(tsv, sep='\\t', index_col=0)\n",
    "genes\n",
    "\n",
    "healthy = genes.loc[:, 'TCGA-A6-2671-11A':'TCGA-A6-2680-11A']\n",
    "cancer = genes.loc[:, 'TCGA-A6-2671-01A':'TCGA-A6-2680-01A']\n",
    "p = scipy.stats.ttest_rel(healthy, cancer, axis=1)\n",
    "unp = scipy.stats.ttest_ind(healthy, cancer, axis=1)\n",
    "pair = []\n",
    "unpair = []\n",
    "for i in range(16789):\n",
    "    pair.append(p[1][i])\n",
    "    unpair.append(unp[1][i])\n",
    "healthy['Paired'] = pair\n",
    "healthy = healthy.sort_values(by='Paired', ascending=True)\n",
    "p_sign = healthy.iloc[:10]\n",
    "l1 = p_sign.index.tolist()"
   ]
  },
  {
   "cell_type": "code",
   "execution_count": 9,
   "metadata": {},
   "outputs": [
    {
     "name": "stdout",
     "output_type": "stream",
     "text": [
      "['TMEM100', 'GSTM2', 'ITM2A', 'GREM2', 'RNF112', 'SHE', 'SPTBN2', 'ZNF10', 'INAFM2', 'HAPLN3']\n",
      "['VWA2', 'RP11-345P4.9', 'RNF112', 'SPTBN2', 'ITM2A', 'WNT2', 'RP11-474D1.3', 'PPAP2A', 'FBLIM1', 'ESM1']\n"
     ]
    }
   ],
   "source": [
    "cancer['Unpaired'] = unpair\n",
    "cancer = cancer.sort_values(by='Unpaired', ascending=True)\n",
    "unp_sign = cancer.iloc[:10]\n",
    "l2 = unp_sign.index.tolist()\n",
    "print (l1)\n",
    "print (l2)"
   ]
  },
  {
   "cell_type": "code",
   "execution_count": 10,
   "metadata": {},
   "outputs": [
    {
     "data": {
      "text/plain": [
       "{'ITM2A', 'RNF112', 'SPTBN2'}"
      ]
     },
     "execution_count": 10,
     "metadata": {},
     "output_type": "execute_result"
    }
   ],
   "source": [
    "inter = set.intersection(set(l1), set(l2))\n",
    "inter"
   ]
  },
  {
   "cell_type": "code",
   "execution_count": null,
   "metadata": {},
   "outputs": [],
   "source": []
  }
 ],
 "metadata": {
  "kernelspec": {
   "display_name": "Python 3",
   "language": "python",
   "name": "python3"
  },
  "language_info": {
   "codemirror_mode": {
    "name": "ipython",
    "version": 3
   },
   "file_extension": ".py",
   "mimetype": "text/x-python",
   "name": "python",
   "nbconvert_exporter": "python",
   "pygments_lexer": "ipython3",
   "version": "3.8.5"
  }
 },
 "nbformat": 4,
 "nbformat_minor": 4
}
